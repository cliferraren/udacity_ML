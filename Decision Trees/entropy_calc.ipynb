{
 "cells": [
  {
   "cell_type": "markdown",
   "metadata": {},
   "source": [
    "## Entropy Calculation\n",
    "\n",
    "There is an error in the formula in the entropy written on this slide. There should be a negative (-) sign preceding the sum:\n",
    "\n",
    "Entropy = \n",
    "−\n",
    "∑\n",
    "i\n",
    "(\n",
    "p\n",
    "i\n",
    ")\n",
    "log\n",
    "2\n",
    "(\n",
    "p\n",
    "i\n",
    ")\n",
    "−∑ \n",
    "i\n",
    "​\t (p \n",
    "i\n",
    "​\t )log \n",
    "2\n",
    "​\t (p \n",
    "i\n",
    "​\t )"
   ]
  },
  {
   "cell_type": "markdown",
   "metadata": {},
   "source": [
    "---"
   ]
  },
  {
   "cell_type": "code",
   "execution_count": 1,
   "metadata": {},
   "outputs": [],
   "source": [
    "import math"
   ]
  },
  {
   "cell_type": "code",
   "execution_count": 2,
   "metadata": {},
   "outputs": [
    {
     "data": {
      "text/plain": [
       "1.0"
      ]
     },
     "execution_count": 2,
     "metadata": {},
     "output_type": "execute_result"
    }
   ],
   "source": [
    "-0.5 * math.log(0.5,2) - 0.5*math.log(0.5,2)"
   ]
  },
  {
   "cell_type": "markdown",
   "metadata": {},
   "source": [
    "---"
   ]
  },
  {
   "cell_type": "markdown",
   "metadata": {},
   "source": [
    "#### If you're scipy-literate, you can also turn a calculation like this into a two-liner: \n",
    "\n",
    "> import scipy.stats\n",
    "\n",
    "> print scipy.stats.entropy([2,1],base=2)"
   ]
  },
  {
   "cell_type": "code",
   "execution_count": null,
   "metadata": {},
   "outputs": [],
   "source": []
  }
 ],
 "metadata": {
  "kernelspec": {
   "display_name": "Python 3",
   "language": "python",
   "name": "python3"
  },
  "language_info": {
   "codemirror_mode": {
    "name": "ipython",
    "version": 3
   },
   "file_extension": ".py",
   "mimetype": "text/x-python",
   "name": "python",
   "nbconvert_exporter": "python",
   "pygments_lexer": "ipython3",
   "version": "3.6.5"
  }
 },
 "nbformat": 4,
 "nbformat_minor": 2
}
