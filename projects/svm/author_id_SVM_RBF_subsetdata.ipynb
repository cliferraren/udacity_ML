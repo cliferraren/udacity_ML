{
 "cells": [
  {
   "cell_type": "markdown",
   "metadata": {},
   "source": [
    "## Lesson 2 (SVM) Mini-Project - Identify the email author using SVM\n",
    "    Use a SVM to identify emails from the Enron corpus by their authors:    \n",
    "    Sara has label 0\n",
    "    Chris has label 1"
   ]
  },
  {
   "cell_type": "code",
   "execution_count": 1,
   "metadata": {},
   "outputs": [],
   "source": [
    "#Specify external dir\n",
    "import sys\n",
    "sys.path.append(\"../tools/\")\n",
    "\n",
    "#Import preprocess for email data and visualization\n",
    "from class_vis import prettyPicture\n",
    "from email_preprocess import preprocess"
   ]
  },
  {
   "cell_type": "markdown",
   "metadata": {},
   "source": [
    "#### Libraries"
   ]
  },
  {
   "cell_type": "code",
   "execution_count": 2,
   "metadata": {},
   "outputs": [],
   "source": [
    "#Import Dependencies\n",
    "from time import time\n",
    "import matplotlib.pyplot as plt\n",
    "import numpy as np\n",
    "import pylab as pl"
   ]
  },
  {
   "cell_type": "markdown",
   "metadata": {},
   "source": [
    "#### Data"
   ]
  },
  {
   "cell_type": "code",
   "execution_count": 3,
   "metadata": {},
   "outputs": [
    {
     "name": "stdout",
     "output_type": "stream",
     "text": [
      "no. of Chris training emails: 865\n",
      "no. of Sara training emails: 892\n"
     ]
    }
   ],
   "source": [
    "### features_train and features_test are the features for the training\n",
    "### and testing datasets, respectively\n",
    "### labels_train and labels_test are the corresponding item labels\n",
    "features_train, features_test, labels_train, labels_test = preprocess()"
   ]
  },
  {
   "cell_type": "markdown",
   "metadata": {},
   "source": [
    "#### Subset Data"
   ]
  },
  {
   "cell_type": "code",
   "execution_count": 4,
   "metadata": {},
   "outputs": [],
   "source": [
    "#Get the 1% of data\n",
    "subset_percent_train = len(features_train)/100\n",
    "subset_percent_labels = len(labels_train)/100"
   ]
  },
  {
   "cell_type": "code",
   "execution_count": 5,
   "metadata": {},
   "outputs": [
    {
     "data": {
      "text/plain": [
       "float"
      ]
     },
     "execution_count": 5,
     "metadata": {},
     "output_type": "execute_result"
    }
   ],
   "source": [
    "type(subset_percent_train)"
   ]
  },
  {
   "cell_type": "markdown",
   "metadata": {},
   "source": [
    "features_train = features_train[:subset_percent_train]\n",
    "labels_train = labels_train[:subset_percent_labels]"
   ]
  },
  {
   "cell_type": "markdown",
   "metadata": {},
   "source": [
    "#### Create SVC Classifier"
   ]
  },
  {
   "cell_type": "markdown",
   "metadata": {},
   "source": [
    "#### Using C = 1.0"
   ]
  },
  {
   "cell_type": "code",
   "execution_count": 6,
   "metadata": {},
   "outputs": [
    {
     "name": "stdout",
     "output_type": "stream",
     "text": [
      "Accuracy: 49.84%\n"
     ]
    }
   ],
   "source": [
    "### Import module to create SVC classifier\n",
    "from sklearn.svm import SVC\n",
    "#### Create the model\n",
    "clf=SVC(C=1.0, kernel=\"rbf\")\n",
    "\n",
    "### Fit the classifier on the training features and labels\n",
    "clf.fit(features_train,labels_train)\n",
    "\n",
    "### use the trained classifier to predict labels for the test features\n",
    "pred=clf.predict(features_test)\n",
    "\n",
    "#Get accuracy for the model\n",
    "from sklearn.metrics import accuracy_score\n",
    "accuracy = accuracy_score(pred, labels_test)\n",
    "print(\"Accuracy: {:.2f}%\".format(accuracy *100))"
   ]
  },
  {
   "cell_type": "markdown",
   "metadata": {},
   "source": [
    "#### Using C = 10.0"
   ]
  },
  {
   "cell_type": "code",
   "execution_count": null,
   "metadata": {},
   "outputs": [],
   "source": [
    "### Import module to create SVC classifier\n",
    "from sklearn.svm import SVC\n",
    "#### Create the model\n",
    "clf=SVC(C=10.0, kernel=\"rbf\")\n",
    "\n",
    "### Fit the classifier on the training features and labels\n",
    "clf.fit(features_train,labels_train)\n",
    "\n",
    "### use the trained classifier to predict labels for the test features\n",
    "pred=clf.predict(features_test)\n",
    "\n",
    "#Get accuracy for the model\n",
    "from sklearn.metrics import accuracy_score\n",
    "accuracy = accuracy_score(pred, labels_test)\n",
    "print(\"Accuracy: {:.2f}%\".format(accuracy *100))"
   ]
  },
  {
   "cell_type": "markdown",
   "metadata": {},
   "source": [
    "#### Using C = 100.0"
   ]
  },
  {
   "cell_type": "code",
   "execution_count": null,
   "metadata": {},
   "outputs": [],
   "source": [
    "### Import module to create SVC classifier\n",
    "from sklearn.svm import SVC\n",
    "#### Create the model\n",
    "clf=SVC(C=100.0, kernel=\"rbf\")\n",
    "\n",
    "### Fit the classifier on the training features and labels\n",
    "clf.fit(features_train,labels_train)\n",
    "\n",
    "### use the trained classifier to predict labels for the test features\n",
    "pred=clf.predict(features_test)\n",
    "\n",
    "#Get accuracy for the model\n",
    "from sklearn.metrics import accuracy_score\n",
    "accuracy = accuracy_score(pred, labels_test)\n",
    "print(\"Accuracy: {:.2f}%\".format(accuracy *100))"
   ]
  },
  {
   "cell_type": "markdown",
   "metadata": {},
   "source": [
    "#### Using C = 1000.0"
   ]
  },
  {
   "cell_type": "code",
   "execution_count": null,
   "metadata": {},
   "outputs": [],
   "source": [
    "### Import module to create SVC classifier\n",
    "from sklearn.svm import SVC\n",
    "#### Create the model\n",
    "clf=SVC(C=1000.0, kernel=\"rbf\")\n",
    "\n",
    "### Fit the classifier on the training features and labels\n",
    "clf.fit(features_train,labels_train)\n",
    "\n",
    "### use the trained classifier to predict labels for the test features\n",
    "pred=clf.predict(features_test)\n",
    "\n",
    "#Get accuracy for the model\n",
    "from sklearn.metrics import accuracy_score\n",
    "accuracy = accuracy_score(pred, labels_test)\n",
    "print(\"Accuracy: {:.2f}%\".format(accuracy *100))"
   ]
  },
  {
   "cell_type": "markdown",
   "metadata": {},
   "source": [
    "#### Using C = 100000.0"
   ]
  },
  {
   "cell_type": "code",
   "execution_count": null,
   "metadata": {},
   "outputs": [],
   "source": [
    "### Import module to create SVC classifier\n",
    "from sklearn.svm import SVC\n",
    "#### Create the model\n",
    "clf=SVC(C=100000.0, kernel=\"rbf\")\n",
    "\n",
    "### Fit the classifier on the training features and labels\n",
    "clf.fit(features_train,labels_train)\n",
    "\n",
    "### use the trained classifier to predict labels for the test features\n",
    "pred=clf.predict(features_test)\n",
    "\n",
    "#Get accuracy for the model\n",
    "from sklearn.metrics import accuracy_score\n",
    "accuracy = accuracy_score(pred, labels_test)\n",
    "print(\"Accuracy: {:.2f}%\".format(accuracy *100))"
   ]
  },
  {
   "cell_type": "code",
   "execution_count": null,
   "metadata": {},
   "outputs": [],
   "source": [
    "accuracy"
   ]
  },
  {
   "cell_type": "code",
   "execution_count": null,
   "metadata": {},
   "outputs": [],
   "source": []
  }
 ],
 "metadata": {
  "kernelspec": {
   "display_name": "Python 3",
   "language": "python",
   "name": "python3"
  },
  "language_info": {
   "codemirror_mode": {
    "name": "ipython",
    "version": 3
   },
   "file_extension": ".py",
   "mimetype": "text/x-python",
   "name": "python",
   "nbconvert_exporter": "python",
   "pygments_lexer": "ipython3",
   "version": "3.6.5"
  }
 },
 "nbformat": 4,
 "nbformat_minor": 2
}
